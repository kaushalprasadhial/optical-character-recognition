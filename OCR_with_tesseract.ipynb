{
 "cells": [
  {
   "cell_type": "code",
   "execution_count": 14,
   "metadata": {},
   "outputs": [],
   "source": [
    "try:\n",
    "    from PIL import Image\n",
    "except ImportError:\n",
    "    import Image\n",
    "import pytesseract\n",
    "\n",
    "import numpy as np\n",
    "import cv2\n",
    "\n",
    "#to specify path for the Pytesseract\n",
    "#pytesseract.pytesseract.tesseract_cmd = 'C:/Program Files/Tesseract-OCR/tesseract'\n",
    "\n",
    "#load image using cv2\n",
    "img = cv2.imread('img2.png')\n",
    "\n",
    "#gives bounding box coordinates \n",
    "box_list = pytesseract.image_to_boxes(img)\n",
    "\n",
    "height = img.shape[0]\n",
    "character= []\n",
    "x1 = []\n",
    "x2 = []\n",
    "y1 = []\n",
    "y2 = []\n",
    "s = []\n",
    "for row in box_list.split('\\n'):\n",
    "    row = row.split()\n",
    "    character.append(row[0])\n",
    "    x1.append(int(row[1]))\n",
    "    y1.append(int(row[2]))\n",
    "    x2.append(int(row[3]))\n",
    "    y2.append(int(row[4]))\n",
    "    s.append(int(row[5]))\n",
    "\n",
    "for i in range(len(x1)):\n",
    "    #if you wont substract y1 & y2 from height then you will get weard result\n",
    "    img = cv2.rectangle(img, (x1[i],height-y1[i]), (x2[i],height-y2[i]), color = (255,0,0), thickness=2)\n",
    "    \n",
    "cv2.imshow('image',img)\n",
    "cv2.waitKey(0)\n",
    "cv2.destroyAllWindows()"
   ]
  },
  {
   "cell_type": "code",
   "execution_count": null,
   "metadata": {},
   "outputs": [],
   "source": []
  }
 ],
 "metadata": {
  "kernelspec": {
   "display_name": "Python 3",
   "language": "python",
   "name": "python3"
  },
  "language_info": {
   "codemirror_mode": {
    "name": "ipython",
    "version": 3
   },
   "file_extension": ".py",
   "mimetype": "text/x-python",
   "name": "python",
   "nbconvert_exporter": "python",
   "pygments_lexer": "ipython3",
   "version": "3.7.3"
  }
 },
 "nbformat": 4,
 "nbformat_minor": 2
}
